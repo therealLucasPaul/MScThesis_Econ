{
 "cells": [
  {
   "cell_type": "code",
   "execution_count": 54,
   "metadata": {},
   "outputs": [],
   "source": [
    "# Loading Libraries\n",
    "import pandas as pd\n",
    "import sklearn as sk\n",
    "from sklearn.linear_model import LinearRegression\n",
    "from sklearn.linear_model import Lasso\n",
    "import numpy as np\n",
    "import matplotlib.pyplot as plt\n",
    "\n",
    "import torch\n",
    "import torch.nn as nn\n",
    "import torch.optim as optim\n",
    "\n",
    "import log_hyperu as hyperu\n",
    "import tgr as tgr"
   ]
  },
  {
   "cell_type": "code",
   "execution_count": 22,
   "metadata": {},
   "outputs": [],
   "source": [
    "# Generating the data sets\n",
    "\n",
    "torch.manual_seed(12345)\n",
    "\n",
    "# Structure of the data sets\n",
    "## Set X_A: Sparse Coefficients with many data points\n",
    "## Set X_B: Dense Coefficients with many data points\n",
    "## Set X_C: Sparse Coefficients with few data points\n",
    "## Set X_D: Dense Coefficients with few data points\n",
    "\n",
    "\n",
    "### Set X_A\n",
    "variables = 4\n",
    "sample = 100\n",
    "true_coefs = torch.tensor([[0.5],[0.2],[5.3],[4.2]])\n",
    "X = torch.randn(sample, variables)\n",
    "Y = X @ true_coefs + torch.randn(sample, 1) * 0.1 "
   ]
  },
  {
   "cell_type": "code",
   "execution_count": 55,
   "metadata": {},
   "outputs": [
    {
     "name": "stdout",
     "output_type": "stream",
     "text": [
      "Epoch [100/1000], Loss: 28.541316986083984\n",
      "Epoch [200/1000], Loss: 19.670513153076172\n",
      "Epoch [300/1000], Loss: 12.691256523132324\n",
      "Epoch [400/1000], Loss: 7.757358551025391\n",
      "Epoch [500/1000], Loss: 4.368696689605713\n",
      "Epoch [600/1000], Loss: 2.1880898475646973\n",
      "Epoch [700/1000], Loss: 1.1026486158370972\n",
      "Epoch [800/1000], Loss: 0.8473856449127197\n",
      "Epoch [900/1000], Loss: 0.8290976881980896\n",
      "Epoch [1000/1000], Loss: 0.808399498462677\n",
      "Coefficients General Function: [[ 8.1124157e-04 -6.7135412e-04  5.1900401e+00  4.1617389e+00]]\n",
      "Intercept General Function: 0.011507042683660984\n"
     ]
    }
   ],
   "source": [
    "trained_model2, coefs, loss_of_optimization = tgr.TripleGammaModel(X, Y, 0.05, 0.6, 0.1, 2, True) # Covariates, Targets, Penalty, a, c, kappa, normalization=True\n",
    "coefficients = trained_model2.linear.weight.detach().numpy()\n",
    "intercept = trained_model2.linear.bias.item()\n",
    "\n",
    "print(\"Coefficients General Function:\", coefficients)\n",
    "print(\"Intercept General Function:\", intercept)"
   ]
  },
  {
   "cell_type": "code",
   "execution_count": null,
   "metadata": {},
   "outputs": [],
   "source": []
  }
 ],
 "metadata": {
  "kernelspec": {
   "display_name": "Python 3",
   "language": "python",
   "name": "python3"
  },
  "language_info": {
   "codemirror_mode": {
    "name": "ipython",
    "version": 3
   },
   "file_extension": ".py",
   "mimetype": "text/x-python",
   "name": "python",
   "nbconvert_exporter": "python",
   "pygments_lexer": "ipython3",
   "version": "3.11.4"
  },
  "orig_nbformat": 4
 },
 "nbformat": 4,
 "nbformat_minor": 2
}
