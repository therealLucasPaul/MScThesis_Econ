{
 "cells": [
  {
   "cell_type": "markdown",
   "metadata": {},
   "source": [
    "#### Simulation Of Scenarios"
   ]
  },
  {
   "cell_type": "code",
   "execution_count": 62,
   "metadata": {},
   "outputs": [],
   "source": [
    "## Import Packages\n",
    "import itertools\n",
    "import random\n",
    "\n",
    "\n",
    "### Torch Packages\n",
    "import torch\n",
    "import torch.nn as nn\n",
    "import torch.optim as optim\n",
    "from torch.utils.data import Dataset, DataLoader, random_split # For Subset Selection\n",
    "\n",
    "### Triple-Gamma-Reg\n",
    "import tgr"
   ]
  },
  {
   "cell_type": "code",
   "execution_count": 73,
   "metadata": {},
   "outputs": [],
   "source": [
    "## Set Scenario Values\n",
    "dataset_size = [10] # In Integers; as in N = 100\n",
    "sparsity_values = [0.5] # In Percentage; as in 10% of coefficients are different from 0\n",
    "num_of_coefs = [5] # In Integers; as in total number of coefficients is 10\n",
    "\n",
    "scenarios = list(itertools.product(dataset_size, sparsity_values, num_of_coefs))"
   ]
  },
  {
   "cell_type": "code",
   "execution_count": 70,
   "metadata": {},
   "outputs": [],
   "source": [
    "## Create class to better handle scenario datasets\n",
    "class ScenarioDataset(Dataset):\n",
    "    def __init__(self, X, Y):\n",
    "        self.X = torch.tensor(X, dtype=torch.float32)\n",
    "        self.Y = torch.tensor(Y, dtype=torch.float32)\n",
    "\n",
    "    def __len__(self):\n",
    "        return len(self.X)\n",
    "\n",
    "    def __getitem__(self, idx):\n",
    "        return self.X[idx], self.Y[idx]"
   ]
  },
  {
   "cell_type": "code",
   "execution_count": 85,
   "metadata": {},
   "outputs": [
    {
     "name": "stdout",
     "output_type": "stream",
     "text": [
      "Data Set Size: 10; Sparsity: 50.0%; Number of Coefficients: 5\n",
      "tensor([[ 8.3477144241,  6.1906638145, -2.6268305779, -2.0533258915,\n",
      "         -2.3993585110,  6.9432682991, -3.3761820793, -0.7660281658,\n",
      "          5.1017742157,  2.4091131687],\n",
      "        [ 8.3815832138,  6.2245326042, -2.5929615498, -2.0194568634,\n",
      "         -2.3654894829,  6.9771370888, -3.3423130512, -0.7321591973,\n",
      "          5.1356430054,  2.4429821968],\n",
      "        [ 8.4041728973,  6.2471213341, -2.5703728199, -1.9968680143,\n",
      "         -2.3429007530,  6.9997258186, -3.3197243214, -0.7095702887,\n",
      "          5.1582317352,  2.4655709267],\n",
      "        [ 8.2987489700,  6.1416978836, -2.6757962704, -2.1022915840,\n",
      "         -2.4483242035,  6.8943023682, -3.4251477718, -0.8149938583,\n",
      "          5.0528082848,  2.3601474762],\n",
      "        [ 8.3452510834,  6.1882004738, -2.6292936802, -2.0557889938,\n",
      "         -2.4018216133,  6.9408049583, -3.3786451817, -0.7684913278,\n",
      "          5.0993108749,  2.4066500664],\n",
      "        [ 8.4221277237,  6.2650761604, -2.5524177551, -1.9789130688,\n",
      "         -2.3249456882,  7.0176806450, -3.3017692566, -0.6916154027,\n",
      "          5.1761865616,  2.4835259914],\n",
      "        [ 8.1114654541,  5.9544143677, -2.8630797863, -2.2895750999,\n",
      "         -2.6356077194,  6.7070188522, -3.6124312878, -1.0022773743,\n",
      "          4.8655247688,  2.1728639603],\n",
      "        [ 8.4112043381,  6.2541527748, -2.5633411407, -1.9898365736,\n",
      "         -2.3358690739,  7.0067572594, -3.3126926422, -0.7025387883,\n",
      "          5.1652631760,  2.4726026058],\n",
      "        [ 8.3160381317,  6.1589870453, -2.6585071087, -2.0850024223,\n",
      "         -2.4310350418,  6.9115915298, -3.4078586102, -0.7977047563,\n",
      "          5.0700974464,  2.3774366379],\n",
      "        [ 8.4135026932,  6.2564516068, -2.5610425472, -1.9875378609,\n",
      "         -2.3335704803,  7.0090560913, -3.3103940487, -0.7002401352,\n",
      "          5.1675620079,  2.4749011993]])\n"
     ]
    },
    {
     "name": "stderr",
     "output_type": "stream",
     "text": [
      "C:\\Users\\Lucas Paul\\AppData\\Local\\Temp\\ipykernel_27884\\1756608188.py:4: UserWarning: To copy construct from a tensor, it is recommended to use sourceTensor.clone().detach() or sourceTensor.clone().detach().requires_grad_(True), rather than torch.tensor(sourceTensor).\n",
      "  self.X = torch.tensor(X, dtype=torch.float32)\n",
      "C:\\Users\\Lucas Paul\\AppData\\Local\\Temp\\ipykernel_27884\\1756608188.py:5: UserWarning: To copy construct from a tensor, it is recommended to use sourceTensor.clone().detach() or sourceTensor.clone().detach().requires_grad_(True), rather than torch.tensor(sourceTensor).\n",
      "  self.Y = torch.tensor(Y, dtype=torch.float32)\n"
     ]
    }
   ],
   "source": [
    "## Simulation\n",
    "torch.manual_seed(12345)\n",
    "random.seed(12345)\n",
    "torch.set_printoptions(sci_mode=False, precision=10)\n",
    "\n",
    "for scenario in scenarios:\n",
    "    print(f'Data Set Size: {scenario[0]}; Sparsity: {scenario[1]*100}%; Number of Coefficients: {scenario[2]}')\n",
    "    \n",
    "    ## Retrieve Simulation Parameters\n",
    "    sample = scenario[0]\n",
    "    sparsity = scenario[1]\n",
    "    coefs = scenario[2]\n",
    "    \n",
    "    ## Get True Coefficients for Data generating Process\n",
    "    coefs_list = int(sparsity*coefs) * [0] # Create List of Zero Coefficients\n",
    "    coefs_list.extend(round(random.uniform(-5, 5),5) for _ in range(coefs - int(sparsity*coefs))) # Fill up remaining Coeficients with random parameters\n",
    "    random.shuffle(coefs_list) # Shuffle the List\n",
    "    #print(coefs_list)\n",
    "    \n",
    "    ## Create Data based on True Coefficients\n",
    "    X = torch.randn(sample, coefs)\n",
    "    Y = X @ torch.tensor(coefs_list) + torch.randn(sample, 1) * 0.1\n",
    "    \n",
    "    ## Split dataset randomly into Train and Test Data\n",
    "    train_percentage = 0.8 # Amount of dataset which is used for training data\n",
    "    dataset = ScenarioDataset(X, Y)\n",
    "    train_dataset, test_dataset = random_split(dataset, [int(train_percentage*sample),sample-int(train_percentage*sample)])\n",
    "    \n",
    "    print(test_dataset.dataset.Y)\n",
    "    \n",
    "    \n",
    "    ### OLS Regression\n",
    "    testerror_OLS = list()\n",
    "    \n",
    "    ### TGR Regression\n",
    "    testerror_TGR = list()\n",
    "    \n",
    "    ### LASSO Regression\n",
    "    testerror_LASSO = list()\n",
    "    \n",
    "    ### Ridge Regression\n",
    "    testerror_RIDGE = list()\n",
    "    \n",
    "    ### Arctan Regression\n",
    "    testerror_ARCTAN = list()\n",
    "    \n",
    "    ### Gaussian Regression\n",
    "    testerror_GAUSSIAN = list()\n",
    "    \n",
    "    ## Output in Table\n",
    "    testerror_scenario = [testerror_OLS, testerror_TGR, testerror_LASSO, testerror_RIDGE, testerror_ARCTAN, testerror_GAUSSIAN]\n",
    "    \n",
    "    \n"
   ]
  },
  {
   "cell_type": "code",
   "execution_count": null,
   "metadata": {},
   "outputs": [],
   "source": []
  },
  {
   "cell_type": "code",
   "execution_count": null,
   "metadata": {},
   "outputs": [],
   "source": []
  }
 ],
 "metadata": {
  "kernelspec": {
   "display_name": "Python 3",
   "language": "python",
   "name": "python3"
  },
  "language_info": {
   "codemirror_mode": {
    "name": "ipython",
    "version": 3
   },
   "file_extension": ".py",
   "mimetype": "text/x-python",
   "name": "python",
   "nbconvert_exporter": "python",
   "pygments_lexer": "ipython3",
   "version": "3.11.4"
  },
  "orig_nbformat": 4
 },
 "nbformat": 4,
 "nbformat_minor": 2
}
