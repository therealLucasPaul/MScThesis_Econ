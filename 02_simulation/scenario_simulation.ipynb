{
 "cells": [
  {
   "cell_type": "markdown",
   "metadata": {},
   "source": [
    "#### Simulation Of Scenarios"
   ]
  },
  {
   "cell_type": "code",
   "execution_count": 1,
   "metadata": {},
   "outputs": [],
   "source": [
    "## Import Packages\n",
    "import itertools\n",
    "import random\n",
    "import numpy as np\n",
    "\n",
    "### Torch Packages\n",
    "import torch\n",
    "import torch.nn as nn\n",
    "import torch.optim as optim\n",
    "from torch.utils.data import Dataset, DataLoader, random_split # For Subset Selection\n",
    "\n",
    "### Triple-Gamma-Reg\n",
    "import tgr as tgr1"
   ]
  },
  {
   "cell_type": "code",
   "execution_count": 2,
   "metadata": {},
   "outputs": [],
   "source": [
    "## Set Scenario Values\n",
    "dataset_size = [100] # In Integers; as in N = 100\n",
    "sparsity_values = [0.02] # In Percentage; as in 10% of coefficients are different from 0\n",
    "num_of_coefs = [10] # In Integers; as in total number of coefficients is 10\n",
    "\n",
    "scenarios = list(itertools.product(dataset_size, sparsity_values, num_of_coefs))"
   ]
  },
  {
   "cell_type": "code",
   "execution_count": 6,
   "metadata": {},
   "outputs": [],
   "source": [
    "def simulateData(scenario):\n",
    "    n = scenario[0]\n",
    "    sparsity = scenario[1]\n",
    "    coef_num = scenario[2]\n",
    "    \n",
    "    n_train = int(n*0.9)\n",
    "    n_test = n - n_train\n",
    "    snr = 1 # Sound-to-noise-ratio\n",
    "    \n",
    "    # Get Explanatory Data drawn from Normal Distribution\n",
    "    X = torch.randn(n, coef_num)\n",
    "    \n",
    "    ## Get True Coefficients for Data generating Process\n",
    "    coefs_list = int((1-sparsity)*coef_num) * [0] # Create List of Zero Coefficients\n",
    "    coefs_list.extend(round(random.uniform(-20, -10),5) for _ in range(coef_num - int((1-sparsity)*coef_num))) # Fill up remaining Coeficients with random parameters\n",
    "    random.shuffle(coefs_list) # Shuffle the List\n",
    "    coefs_list = torch.tensor(coefs_list)\n",
    "    \n",
    "    # Generate Y values; Use Sigma according to Wang et al (2020)\n",
    "    sigma = np.sqrt((coefs_list.T @ X.T @ X @ coefs_list)/(snr**2*n)).item()\n",
    "    Y = X @ coefs_list\n",
    "    \n",
    "    # Split into train and test\n",
    "    Y_train = Y[:n_train]\n",
    "    X_train = X[:n_train,]\n",
    "    Y_test = Y[n_train:]\n",
    "    X_test = X[n_train:,]\n",
    "    \n",
    "    return Y_test, Y_train, X_test, X_train, coefs_list"
   ]
  },
  {
   "cell_type": "code",
   "execution_count": 7,
   "metadata": {},
   "outputs": [
    {
     "name": "stdout",
     "output_type": "stream",
     "text": [
      "Data Set Size: 100; Sparsity: 2.0%; Number of Coefficients: 10\n"
     ]
    },
    {
     "name": "stderr",
     "output_type": "stream",
     "text": [
      "C:\\Users\\Lucas Paul\\AppData\\Roaming\\Python\\Python311\\site-packages\\torch\\nn\\modules\\loss.py:535: UserWarning: Using a target size (torch.Size([90])) that is different to the input size (torch.Size([90, 1])). This will likely lead to incorrect results due to broadcasting. Please ensure they have the same size.\n",
      "  return F.mse_loss(input, target, reduction=self.reduction)\n"
     ]
    },
    {
     "name": "stdout",
     "output_type": "stream",
     "text": [
      "Epoch [100/1000], Loss: 252.14590454101562\n",
      "Epoch [200/1000], Loss: 252.1394805908203\n",
      "Epoch [300/1000], Loss: 252.13088989257812\n",
      "Epoch [400/1000], Loss: 252.13943481445312\n",
      "Epoch [500/1000], Loss: 252.13760375976562\n",
      "Epoch [600/1000], Loss: 252.13534545898438\n",
      "Epoch [700/1000], Loss: 252.13699340820312\n",
      "Epoch [800/1000], Loss: 252.1328125\n",
      "Epoch [900/1000], Loss: 252.14129638671875\n",
      "Epoch [1000/1000], Loss: 252.13934326171875\n",
      "[0.00045080611016601324, -0.0007013143040239811, -0.004835708066821098, -0.0038441491778939962, -0.001191428629681468, 0.0014461460523307323, -0.001939990557730198, -0.00280621531419456, -0.0009467573836445808, -0.00032485031988471746]\n"
     ]
    }
   ],
   "source": [
    "## Simulation\n",
    "torch.manual_seed(1234)\n",
    "random.seed(12345)\n",
    "torch.set_printoptions(sci_mode=False, precision=10)\n",
    "\n",
    "for scenario in scenarios:\n",
    "    y_test, y_train, x_test, x_train, true_coefs  = simulateData(scenario)\n",
    "    print(f'Data Set Size: {scenario[0]}; Sparsity: {scenario[1]*100}%; Number of Coefficients: {scenario[2]}')\n",
    "    \n",
    "    ### TGR Regression\n",
    "    testerror_TGR = list()\n",
    "    \n",
    "    iterations = 1000\n",
    "    trained_model2, coefs, loss_of_optimization = tgr1.TripleGammaModel(x_train, y_train, 1, 1, 30, 1, True, num_epochs=iterations) # Covariates, Targets, Penalty, a, c, kappa, normalization=True\n",
    "    coefficients = trained_model2.linear.weight.detach().numpy()\n",
    "    print(coefficients[0].tolist())\n",
    "        \n",
    "    ### LASSO Regression\n",
    "    testerror_LASSO = list()\n",
    "    \n",
    "    ## Output in Table\n",
    "    testerror_scenario = [testerror_TGR, testerror_LASSO]"
   ]
  },
  {
   "cell_type": "code",
   "execution_count": null,
   "metadata": {},
   "outputs": [],
   "source": []
  }
 ],
 "metadata": {
  "kernelspec": {
   "display_name": "Python 3",
   "language": "python",
   "name": "python3"
  },
  "language_info": {
   "codemirror_mode": {
    "name": "ipython",
    "version": 3
   },
   "file_extension": ".py",
   "mimetype": "text/x-python",
   "name": "python",
   "nbconvert_exporter": "python",
   "pygments_lexer": "ipython3",
   "version": "3.11.4"
  },
  "orig_nbformat": 4
 },
 "nbformat": 4,
 "nbformat_minor": 2
}
