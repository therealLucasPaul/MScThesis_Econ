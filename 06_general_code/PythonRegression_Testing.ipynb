{
 "cells": [
  {
   "cell_type": "code",
   "execution_count": 47,
   "metadata": {},
   "outputs": [],
   "source": [
    "# Loading Libraries\n",
    "import pandas as pd\n",
    "import sklearn as sk\n",
    "from sklearn.linear_model import LinearRegression\n",
    "from sklearn.linear_model import Lasso\n",
    "import numpy as np"
   ]
  },
  {
   "cell_type": "code",
   "execution_count": 44,
   "metadata": {},
   "outputs": [
    {
     "name": "stdout",
     "output_type": "stream",
     "text": [
      "           area  stories  furnishingstatus_semi-furnished  \\\n",
      "0    689.340557        3                            False   \n",
      "1    832.411238        4                            False   \n",
      "2    925.314278        2                             True   \n",
      "3    696.772800        2                            False   \n",
      "4    689.340557        2                            False   \n",
      "..          ...      ...                              ...   \n",
      "540  278.709120        1                            False   \n",
      "541  222.967296        1                             True   \n",
      "542  336.309005        1                            False   \n",
      "543  270.347846        1                            False   \n",
      "544  357.676704        2                            False   \n",
      "\n",
      "     furnishingstatus_unfurnished  \n",
      "0                           False  \n",
      "1                           False  \n",
      "2                           False  \n",
      "3                           False  \n",
      "4                           False  \n",
      "..                            ...  \n",
      "540                          True  \n",
      "541                         False  \n",
      "542                          True  \n",
      "543                         False  \n",
      "544                          True  \n",
      "\n",
      "[545 rows x 4 columns]\n"
     ]
    }
   ],
   "source": [
    "# Import data\n",
    "data = pd.read_csv(\"sample_data/housing.csv\")\n",
    "\n",
    "Y = data.price.values/1000000\n",
    "data = data[['area',\"stories\",\"furnishingstatus\"]] #data.iloc[:, 1:]\n",
    "X_categorical = pd.get_dummies(data[[\"furnishingstatus\"]], prefix=\"furnishingstatus\")\n",
    "X_numeric = data.drop(columns=[\"furnishingstatus\"])\n",
    "X = pd.concat([X_numeric, X_categorical], axis=1)\n",
    "X[\"area\"] = X[\"area\"]*0.09290304\n",
    "X = X.drop(columns=[\"furnishingstatus_furnished\"])\n",
    "print(X)"
   ]
  },
  {
   "cell_type": "code",
   "execution_count": 51,
   "metadata": {},
   "outputs": [
    {
     "name": "stdout",
     "output_type": "stream",
     "text": [
      "Coefficients:\n",
      "area: 0.0044\n",
      "stories: 0.7806\n",
      "furnishingstatus_semi-furnished: -0.2648\n",
      "furnishingstatus_unfurnished: -0.8934\n",
      "Intercept: 1.6547\n",
      "R^2: 0.4649\n",
      "Mean Squared Error: 1.8686\n"
     ]
    }
   ],
   "source": [
    "# Simple Linear Model\n",
    "model = LinearRegression()\n",
    "\n",
    "# Fit the model\n",
    "model.fit(X, Y)\n",
    "\n",
    "def regression_summary(model, X, y, feature_names):\n",
    "    # Print coefficients\n",
    "    print(\"Coefficients:\")\n",
    "    for feature_name, coef in zip(feature_names, model.coef_):\n",
    "        print(f\"{feature_name}: {coef:.4f}\")\n",
    "\n",
    "    # Print intercept\n",
    "    print(f\"Intercept: {model.intercept_:.4f}\")\n",
    "\n",
    "    # Print R^2 value\n",
    "    r_squared = model.score(X, y)\n",
    "    print(f\"R^2: {r_squared:.4f}\")\n",
    "\n",
    "    # Print mean squared error\n",
    "    predictions = model.predict(X)\n",
    "    mse = np.mean((predictions - y) ** 2)\n",
    "    print(f\"Mean Squared Error: {mse:.4f}\")\n",
    "    \n",
    "\n",
    "regression_summary(model, X, Y, feature_names=X)  # Assuming the last column is the target\n"
   ]
  },
  {
   "cell_type": "code",
   "execution_count": 53,
   "metadata": {},
   "outputs": [
    {
     "name": "stdout",
     "output_type": "stream",
     "text": [
      "Coefficients: [ 0.00490769  0.14567693  0.         -0.        ]\n",
      "Intercept: 2.1553766631663214\n"
     ]
    }
   ],
   "source": [
    "# Create and fit the Lasso model\n",
    "lasso_model = Lasso(alpha=0.5)  # You can specify the regularization strength using the alpha parameter\n",
    "lasso_model.fit(X, Y)\n",
    "\n",
    "# Print coefficients\n",
    "print(\"Coefficients:\", lasso_model.coef_)\n",
    "\n",
    "# Print intercept\n",
    "print(\"Intercept:\", lasso_model.intercept_)"
   ]
  }
 ],
 "metadata": {
  "kernelspec": {
   "display_name": "Python 3",
   "language": "python",
   "name": "python3"
  },
  "language_info": {
   "codemirror_mode": {
    "name": "ipython",
    "version": 3
   },
   "file_extension": ".py",
   "mimetype": "text/x-python",
   "name": "python",
   "nbconvert_exporter": "python",
   "pygments_lexer": "ipython3",
   "version": "3.11.4"
  },
  "orig_nbformat": 4
 },
 "nbformat": 4,
 "nbformat_minor": 2
}
